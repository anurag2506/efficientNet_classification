{
 "cells": [
  {
   "cell_type": "code",
   "execution_count": 1,
   "metadata": {},
   "outputs": [
    {
     "data": {
      "text/plain": [
       "['Cat', '.DS_Store', 'Dog']"
      ]
     },
     "execution_count": 1,
     "metadata": {},
     "output_type": "execute_result"
    }
   ],
   "source": [
    "import os\n",
    "os.listdir('data')"
   ]
  },
  {
   "cell_type": "code",
   "execution_count": 6,
   "metadata": {},
   "outputs": [
    {
     "data": {
      "text/plain": [
       "True"
      ]
     },
     "execution_count": 6,
     "metadata": {},
     "output_type": "execute_result"
    }
   ],
   "source": [
    "len(os.listdir('data/Dog')) == len(os.listdir('data/Cat'))"
   ]
  },
  {
   "cell_type": "code",
   "execution_count": 4,
   "metadata": {},
   "outputs": [],
   "source": [
    "os.makedirs('data/train')\n",
    "os.makedirs('data/test')"
   ]
  },
  {
   "cell_type": "markdown",
   "metadata": {},
   "source": [
    "#### Creating the split between the test and train dataset by taking a 80-20 split"
   ]
  },
  {
   "cell_type": "code",
   "execution_count": null,
   "metadata": {},
   "outputs": [],
   "source": [
    "import os\n",
    "import random\n",
    "import shutil\n",
    "\n",
    "source_dir_dog = 'data/Dog'\n",
    "target_dir_dog = 'data/test/Dog'\n",
    "source_dir_cat = 'data/Cat'\n",
    "target_dir_cat = 'data/test/Cat'\n",
    "\n",
    "files_dog = os.listdir(source_dir_dog)\n",
    "files_cat = os.listdir(source_dir_cat)\n",
    "\n",
    "num_files_to_move_dog = int(0.2 * len(files_dog))\n",
    "num_files_to_move_cat = int(0.2 * len(files_cat))\n",
    "\n",
    "random_files_dog = random.sample(files_dog, num_files_to_move_dog)\n",
    "random_files_cat = random.sample(files_cat, num_files_to_move_cat)\n",
    "\n",
    "for file in random_files_dog:\n",
    "    shutil.move(os.path.join(source_dir_dog, file), os.path.join(target_dir_dog, file))\n",
    "\n",
    "for file in random_files_cat:\n",
    "    shutil.move(os.path.join(source_dir_cat, file), os.path.join(target_dir_cat, file))"
   ]
  },
  {
   "cell_type": "code",
   "execution_count": null,
   "metadata": {},
   "outputs": [],
   "source": []
  }
 ],
 "metadata": {
  "kernelspec": {
   "display_name": "mentoroid",
   "language": "python",
   "name": "python3"
  },
  "language_info": {
   "codemirror_mode": {
    "name": "ipython",
    "version": 3
   },
   "file_extension": ".py",
   "mimetype": "text/x-python",
   "name": "python",
   "nbconvert_exporter": "python",
   "pygments_lexer": "ipython3",
   "version": "3.11.10"
  }
 },
 "nbformat": 4,
 "nbformat_minor": 2
}
